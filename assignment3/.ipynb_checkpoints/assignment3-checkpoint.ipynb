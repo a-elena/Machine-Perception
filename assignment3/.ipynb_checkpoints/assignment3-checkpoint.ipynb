{
 "cells": [
  {
   "cell_type": "code",
   "execution_count": null,
   "id": "9f10ebed-8f82-47da-bc5a-e08a2e152166",
   "metadata": {},
   "outputs": [],
   "source": [
    "import numpy as np\n",
    "import cv2\n",
    "from matplotlib import pyplot as plt\n",
    "from mpl_toolkits.mplot3d import Axes3D\n",
    "from a2_utils import *\n",
    "from a3_utils import *\n",
    "from UZ_utils import *\n",
    "import os"
   ]
  },
  {
   "cell_type": "markdown",
   "id": "45da1b8b-f514-4083-9e8f-b03c3900e156",
   "metadata": {},
   "source": [
    "# Exercise 1: Image derivatives"
   ]
  },
  {
   "cell_type": "code",
   "execution_count": null,
   "id": "eb52066e-3a64-41c6-8995-8e85b833a623",
   "metadata": {},
   "outputs": [],
   "source": [
    "def filter(I, kernel):\n",
    "\n",
    "    return cv2.filter2D(I, -1, kernel)\n"
   ]
  },
  {
   "cell_type": "markdown",
   "id": "8453b03a-368f-4ab9-a3b5-9e7bcce86290",
   "metadata": {},
   "source": [
    "### b) Implement the function gaussdx(sigma) that works the same as function gauss from the previous assignment."
   ]
  },
  {
   "cell_type": "code",
   "execution_count": null,
   "id": "8a953541-aeb7-4a28-902a-b8afbdce7a3d",
   "metadata": {},
   "outputs": [],
   "source": [
    "def gauss(sigma):\n",
    "    size = int(2 * np.ceil(3 * sigma) + 1)\n",
    "    g = []\n",
    "\n",
    "    for i in range(size):\n",
    "        x = i - (size - 1) / 2 \n",
    "        value = (1 / (np.sqrt(2 * np.pi) * sigma)) * np.exp(-(x**2) / (2 * sigma**2))\n",
    "        g.append(value)\n",
    "        \n",
    "    g = np.array(g)  \n",
    "    return (g / np.sum(g)).reshape(1,-1)"
   ]
  },
  {
   "cell_type": "code",
   "execution_count": null,
   "id": "198e29e3-e63c-4a73-919f-282ef590ede3",
   "metadata": {},
   "outputs": [],
   "source": [
    "def gaussdx(sigma):\n",
    "    size = int(2 * np.ceil(3 * sigma) + 1)\n",
    "    g = []\n",
    "\n",
    "    for i in range(size):\n",
    "        x = i - (size - 1) / 2\n",
    "        value = (-1 / (np.sqrt(2 * np.pi) * sigma ** 3)) * x * np.exp(-(x**2) / (2 * sigma**2))\n",
    "        g.append(value)\n",
    "\n",
    "    g = np.array(g)\n",
    "\n",
    "    return (g / np.sum(np.abs(g))).reshape(1,-1)\n",
    "    "
   ]
  },
  {
   "cell_type": "markdown",
   "id": "2f6d9a74-f536-40dc-891e-a76ed7f650a2",
   "metadata": {},
   "source": [
    "### c) The properties of the filter can be analyzed by using an impulse response function.This is performed as a convolution of the filter with a Dirac delta function. "
   ]
  },
  {
   "cell_type": "code",
   "execution_count": null,
   "id": "e84e0b6b-26ce-43e7-80be-7e3e81e2dda5",
   "metadata": {},
   "outputs": [],
   "source": [
    "impulse = np.zeros((50, 50))\n",
    "impulse[25, 25] = 1"
   ]
  },
  {
   "cell_type": "code",
   "execution_count": null,
   "id": "0fc52f43-b430-435d-8a60-03f4f7f5cdd1",
   "metadata": {},
   "outputs": [],
   "source": [
    "G = gauss(3)\n",
    "GT = G.T\n",
    "G = np.flip(G)\n",
    "GT = np.flip(GT)\n",
    "\n",
    "D = gaussdx(3)\n",
    "DT = D.T\n",
    "D = np.flip(D)\n",
    "DT = np.flip(DT)"
   ]
  },
  {
   "cell_type": "code",
   "execution_count": null,
   "id": "cacf99e8-8655-41ad-9bb6-b0ab0a00be8a",
   "metadata": {},
   "outputs": [],
   "source": [
    "G_Gt = filter(filter(impulse, G), GT)\n",
    "G_Dt = filter(filter(impulse, G), DT)\n",
    "D_Gt = filter(filter(impulse, D), GT)\n",
    "Gt_D = filter(filter(impulse, GT), D)\n",
    "Dt_G = filter(filter(impulse, DT), G)"
   ]
  },
  {
   "cell_type": "code",
   "execution_count": null,
   "id": "305af298-7512-4831-b01c-79de0db5582f",
   "metadata": {},
   "outputs": [],
   "source": [
    "plt.subplot(2, 3, 1)\n",
    "plt.imshow(impulse, cmap='gray')\n",
    "plt.title('Impulse')\n",
    "plt.subplot(2, 3, 2)\n",
    "plt.imshow(G_Dt, cmap='gray')\n",
    "plt.title('G, Dt')\n",
    "plt.subplot(2, 3, 3)\n",
    "plt.imshow(D_Gt, cmap='gray')\n",
    "plt.title('D, Gt')\n",
    "plt.subplot(2, 3, 4)\n",
    "plt.imshow(G_Gt, cmap='gray')\n",
    "plt.title('G, Gt')\n",
    "plt.subplot(2, 3, 5)\n",
    "plt.imshow(Gt_D, cmap='gray')\n",
    "plt.title('Gt, D')\n",
    "plt.subplot(2, 3, 6)\n",
    "plt.imshow(Dt_G, cmap='gray')\n",
    "plt.title('Dt, G')\n",
    "plt.show()"
   ]
  },
  {
   "cell_type": "markdown",
   "id": "fc592a21-91f2-43ee-9eff-c714ad02bdb8",
   "metadata": {},
   "source": [
    "### (d) Implement a function that uses functions gauss and gaussdx to compute both partial derivatives of a given image with respect to x and with respect to y."
   ]
  },
  {
   "cell_type": "code",
   "execution_count": null,
   "id": "6be6baa3-f57c-4e4a-b219-dcf7e2667a72",
   "metadata": {},
   "outputs": [],
   "source": [
    "def first_derivative(I, sigma=1):\n",
    "\n",
    "    G = gauss(sigma)\n",
    "    GT = G.T\n",
    "    G = np.flip(G)\n",
    "    GT = np.flip(GT)\n",
    "    \n",
    "    D = gaussdx(sigma)\n",
    "    DT = D.T\n",
    "    D = np.flip(D)\n",
    "    DT = np.flip(DT)\n",
    "    \n",
    "    dx = filter(filter(I, GT), D)\n",
    "    dy = filter(filter(I, DT), G)\n",
    "    \n",
    "    return dx, dy\n",
    "        "
   ]
  },
  {
   "cell_type": "code",
   "execution_count": null,
   "id": "c27917f1-04a0-493a-aac5-16e12e0087b6",
   "metadata": {},
   "outputs": [],
   "source": [
    "def second_derivative(I, sigma=1):\n",
    "    \n",
    "    I_dx, I_dy = first_derivative(I, sigma)\n",
    "    I_dxx, I_dyx = first_derivative(I_x, sigma)\n",
    "    I_dxy, I_dyy = first_derivative(I_y, sigma)\n",
    "    \n",
    "    return I_dxx, I_dxy, I_dyy"
   ]
  },
  {
   "cell_type": "code",
   "execution_count": null,
   "id": "d770d132-b04a-47d6-a736-2f87bddeb9e0",
   "metadata": {},
   "outputs": [],
   "source": [
    "def gradient_magnitude(I, sigma=1):\n",
    "\n",
    "    dx, dy = first_derivative(I, sigma)\n",
    "    m = np.sqrt(dx**2 + dy**2)\n",
    "    a = np.arctan2(dy,dx)\n",
    "\n",
    "    return m, a"
   ]
  },
  {
   "cell_type": "code",
   "execution_count": null,
   "id": "bc3544bf-83f2-409e-a5f5-bd3a3255ecc1",
   "metadata": {},
   "outputs": [],
   "source": [
    "museum = imread_gray('images/museum.jpg')\n",
    "I_x, I_y = first_derivative(museum, 1)\n",
    "I_mag, I_dir = gradient_magnitude(museum, 1)\n",
    "I_xx, I_xy, I_yy = second_derivative(museum, 1)"
   ]
  },
  {
   "cell_type": "code",
   "execution_count": null,
   "id": "7d88a818-d45e-42be-beed-427093f01387",
   "metadata": {},
   "outputs": [],
   "source": [
    "plt.figure(figsize=(12, 6))\n",
    "plt.subplot(2, 4, 1)\n",
    "plt.imshow(museum, cmap='gray')\n",
    "plt.title('Original')\n",
    "plt.subplot(2, 4, 2)\n",
    "plt.imshow(I_x, cmap='gray')\n",
    "plt.title('I_x')\n",
    "plt.subplot(2, 4, 3)\n",
    "plt.imshow(I_y, cmap='gray')\n",
    "plt.title('I_y')\n",
    "plt.subplot(2, 4, 4)\n",
    "plt.imshow(I_mag, cmap='gray')\n",
    "plt.title('I_mag')\n",
    "plt.subplot(2, 4, 5)\n",
    "plt.imshow(I_xx, cmap='gray')\n",
    "plt.title('I_xx')\n",
    "plt.subplot(2, 4, 6)\n",
    "plt.imshow(I_xy, cmap='gray')\n",
    "plt.title('I_xy')\n",
    "plt.subplot(2, 4, 7)\n",
    "plt.imshow(I_yy, cmap='gray')\n",
    "plt.title('I_yy')\n",
    "plt.subplot(2, 4, 8)\n",
    "plt.imshow(I_dir, cmap='gray')\n",
    "plt.title('I_dir')\n",
    "plt.show()\n",
    "\n"
   ]
  },
  {
   "cell_type": "markdown",
   "id": "cc1fb35c-eb8b-40c3-ad5a-ee5d56e7c282",
   "metadata": {},
   "source": [
    "### (e) Gradient information is often used in image recognition. Extend your image retrieval system from the previous assignment to use a simple gradient-based feature instead of color histograms. "
   ]
  },
  {
   "cell_type": "code",
   "execution_count": null,
   "id": "d9a0be32-6260-465d-a9c4-5a8988830804",
   "metadata": {},
   "outputs": [],
   "source": [
    "def compare_histograms(H1, H2, measure:str):\n",
    "\n",
    "    distance = 0\n",
    "    if measure == \"L2\":\n",
    "        difference = (H1 - H2) ** 2\n",
    "        distance = np.sqrt(np.sum(difference))\n",
    "    elif measure == \"X2\":\n",
    "        e = 1e-10\n",
    "        difference = (H1 - H2) ** 2\n",
    "        sum = H1 + H2 + e\n",
    "        distance = 0.5 * np.sum((difference / sum))\n",
    "    elif measure == \"I\":\n",
    "        minimum = np.minimum(H1, H2)\n",
    "        distance = 1 - np.sum(minimum)\n",
    "    elif measure == \"H\":\n",
    "        sqrt_H1 = np.sqrt(H1)\n",
    "        sqrt_H2 = np.sqrt(H2)\n",
    "        difference = (sqrt_H1 - sqrt_H2)**2\n",
    "        distance = np.sqrt(0.5 * np.sum(difference))\n",
    "        \n",
    "    return round(distance,2)"
   ]
  },
  {
   "cell_type": "code",
   "execution_count": null,
   "id": "f262ddfa-c3ec-46bf-9968-6a137f6a2101",
   "metadata": {},
   "outputs": [],
   "source": [
    "def divide_into_grid(image, grid_size):\n",
    "    \n",
    "    cells = np.array_split(image, grid_size[0], axis=0)\n",
    "    cells = [np.array_split(cell, grid_size[1], axis=1) for cell in cells]\n",
    "    grid_cells = [cell for row in cells for cell in row]\n",
    "\n",
    "    return grid_cells\n"
   ]
  },
  {
   "cell_type": "code",
   "execution_count": null,
   "id": "d92418bc-c4ac-465f-a7e6-47463a43ecb7",
   "metadata": {},
   "outputs": [],
   "source": [
    "def histogram(mags, angs, n_bins):\n",
    "    \n",
    "    hist = np.zeros(n_bins)\n",
    "    for m, a in zip(mags.reshape(-1), angs.reshape(-1)):\n",
    "        hist[a] += m\n",
    "\n",
    "    return hist"
   ]
  },
  {
   "cell_type": "code",
   "execution_count": null,
   "id": "28ff5ce6-8163-4662-a434-68fea138897b",
   "metadata": {},
   "outputs": [],
   "source": [
    "def feature(image, sigma, n_bins):\n",
    "    magnitudes, angles = gradient_magnitude(image, sigma=1)\n",
    "    angle_values = np.linspace(-np.pi, np.pi, n_bins)\n",
    "    angles = np.digitize(angles, bins=angle_values) - 1\n",
    "\n",
    "    mag_cells = divide_into_grid(magnitudes, (n_bins, n_bins))\n",
    "    angle_cells = divide_into_grid(angles, (n_bins, n_bins))\n",
    "\n",
    "    features = []\n",
    "    for m, a in zip(mag_cells, angle_cells):\n",
    "        hist = histogram(m, a, n_bins)\n",
    "        features.extend(hist)\n",
    "\n",
    "    return np.array(features)\n",
    "    "
   ]
  },
  {
   "cell_type": "code",
   "execution_count": null,
   "id": "0463ae49-a7d4-46dc-b8fe-a4da15fc90ab",
   "metadata": {},
   "outputs": [],
   "source": [
    "def compute_features(directory, sigma, n_bins):\n",
    "    features = {}\n",
    "    for filename in os.listdir(directory):\n",
    "        image_path = os.path.join(directory, filename)\n",
    "        image = imread_gray(image_path)\n",
    "        f = feature(image, sigma, n_bins)\n",
    "        features[image_path] = f\n",
    "    return features"
   ]
  },
  {
   "cell_type": "code",
   "execution_count": null,
   "id": "6c20e895-05bc-4e05-9367-8ac91de0635d",
   "metadata": {},
   "outputs": [],
   "source": [
    "def  image_retrieval(directory, image, sigma, n_bins, napaka):\n",
    "    features = compute_features(directory, sigma, n_bins)\n",
    "    F = feature(image, sigma, n_bins)\n",
    "\n",
    "    errors = {}\n",
    "\n",
    "    for image_path, f in features.items():\n",
    "        e = compare_histograms(F,f,napaka)\n",
    "        errors[image_path] = e\n",
    "\n",
    "    return errors, features"
   ]
  },
  {
   "cell_type": "code",
   "execution_count": null,
   "id": "4353b71e-adb3-4faf-813e-96493cfc5df4",
   "metadata": {},
   "outputs": [],
   "source": [
    "def ret_5(directory, image, sigma, n_bins, napaka):\n",
    "    errors, features = image_retrieval(directory, image, sigma, n_bins, napaka)\n",
    "    sorted_errors = dict(sorted(errors.items(), key=lambda item: item[1]))\n",
    "    errors5 = {}\n",
    "    features5 = {}\n",
    "    i = 0\n",
    "    for image_path, err in sorted_errors.items():\n",
    "        errors5[image_path] = err\n",
    "        features5[image_path] = features[image_path]\n",
    "        i+=1\n",
    "\n",
    "        if i == 6:\n",
    "            break\n",
    "    return errors5, features5"
   ]
  },
  {
   "cell_type": "code",
   "execution_count": null,
   "id": "69d8c602-ab19-45f1-9aef-bf8bcdb55901",
   "metadata": {},
   "outputs": [],
   "source": [
    "image = imread_gray(\"dataset/object_05_4.png\")\n",
    "\n",
    "err, hists = ret_5(\"dataset/\", image, 1, 8, \"H\")\n",
    "\n",
    "plt.figure(figsize=(15, 10)) \n",
    "for idx, (image_path, e) in enumerate(err.items()):\n",
    "    img = cv2.imread(image_path)\n",
    "    plt.subplot(1, 6, idx+1) \n",
    "    plt.imshow(cv2.cvtColor(img, cv2.COLOR_BGR2RGB)) \n",
    "    plt.title(image_path)\n",
    "    \n",
    "plt.tight_layout()\n",
    "plt.show()\n",
    "\n",
    "plt.figure(figsize=(15, 6)) \n",
    "for idx, (image_path, e) in enumerate(err.items()):\n",
    "    hist = hists[image_path]\n",
    "    plt.subplot(2, 6, idx+7) \n",
    "    plt.plot(hist)\n",
    "    plt.title(f\"hell={e}\")\n",
    "    \n",
    "plt.tight_layout()\n",
    "plt.show()"
   ]
  },
  {
   "cell_type": "markdown",
   "id": "7e56ea56-f81b-4c92-a66d-aa862841752f",
   "metadata": {},
   "source": [
    "# Exercise 2: Edges in images\n"
   ]
  },
  {
   "cell_type": "markdown",
   "id": "2b1f7b99-f610-48fe-a097-c380e8941b32",
   "metadata": {},
   "source": [
    "### (a) Create a function findedges that accepts an image I, and the parameters sigma and theta"
   ]
  },
  {
   "cell_type": "code",
   "execution_count": null,
   "id": "10a2001f-3e75-4c27-b6cc-7241d62e74bf",
   "metadata": {},
   "outputs": [],
   "source": [
    "def findedges(I, sigma, theta):\n",
    "    \n",
    "    I_mag, _ = gradient_magnitude(I, sigma)\n",
    "    I_mag_bin = np.where(I_mag >= theta, 1, 0)\n",
    "    I_mag = np.where(I_mag >= theta, I_mag, 0)\n",
    "    \n",
    "    return I_mag, I_mag_bin"
   ]
  },
  {
   "cell_type": "code",
   "execution_count": null,
   "id": "b3dddb03-cb3c-46b0-a79a-3c8aa73ad26b",
   "metadata": {},
   "outputs": [],
   "source": [
    "museum = imread_gray(\"images/museum.jpg\")\n",
    "mt1, mt1_bin = findedges(museum, 1, 0.04)\n",
    "mt2, mt2_bin = findedges(museum, 1, 0.1)\n",
    "mt3, mt3_bin = findedges(museum, 1, 0.16)"
   ]
  },
  {
   "cell_type": "code",
   "execution_count": null,
   "id": "2aef8092-5a0f-484a-86b9-1d0163597614",
   "metadata": {},
   "outputs": [],
   "source": [
    "plt.figure(figsize=(15, 10))\n",
    "plt.subplot(3, 3, 2)\n",
    "plt.imshow(museum, cmap='gray')\n",
    "plt.title('Original')\n",
    "plt.axis('off')\n",
    "plt.subplot(3, 3, 4)\n",
    "plt.imshow(mt1, cmap='gray')\n",
    "plt.title('theta = 0.04')\n",
    "plt.axis('off')\n",
    "plt.subplot(3, 3, 5)\n",
    "plt.imshow(mt2, cmap='gray')\n",
    "plt.title('theta = 0.1')\n",
    "plt.axis('off')\n",
    "plt.subplot(3, 3, 6)\n",
    "plt.imshow(mt3, cmap='gray')\n",
    "plt.title('theta = 0.16')\n",
    "plt.axis('off')\n",
    "plt.subplot(3, 3, 7)\n",
    "plt.imshow(mt1_bin, cmap='gray')\n",
    "plt.title('theta = 0.04 -> bin')\n",
    "plt.axis('off')\n",
    "plt.subplot(3, 3, 8)\n",
    "plt.imshow(mt2_bin, cmap='gray')\n",
    "plt.title('theta = 0.1 -> bin')\n",
    "plt.axis('off')\n",
    "plt.subplot(3, 3, 9)\n",
    "plt.imshow(mt3_bin, cmap='gray')\n",
    "plt.title('theta = 0.16 -> bin')\n",
    "plt.axis('off')\n",
    "plt.show()\n",
    "\n"
   ]
  },
  {
   "cell_type": "markdown",
   "id": "d24f6ec5-52a0-4f40-a526-40f05d19e9c9",
   "metadata": {},
   "source": [
    "### (b) Implement non-maxima suppression based on the image derivative magnitudes and angles."
   ]
  },
  {
   "cell_type": "code",
   "execution_count": null,
   "id": "fe84b0e8-d342-4144-a474-70e03b43da58",
   "metadata": {},
   "outputs": [],
   "source": [
    "def non_maxima_suppression(I, sigma, theta):\n",
    "    I_mag, angles = gradient_magnitude(I,sigma)\n",
    "    edges, edges_bin = findedges(I, sigma, theta)\n",
    "\n",
    "    angles = angles * 180 / np.pi\n",
    "\n",
    "    angles[angles < 0] += 360\n",
    "    angles[angles > 360] -= 360\n",
    "    angles = np.floor(angles / 22.5).astype(int) % 16\n",
    "    \n",
    "    \n",
    "    \n",
    "    for i in range(1,I.shape[0]-1):\n",
    "        for j in range(1,I.shape[1]-1):\n",
    "\n",
    "            angle = angles[i, j]\n",
    "            neighbors = [0, 0]\n",
    "            \n",
    "            if angle in [15, 0]:\n",
    "                neighbors = [I_mag[i, j+1], I_mag[i, j-1]]\n",
    "            if angle in [1, 2]:\n",
    "                neighbors = [I_mag[i + 1, j+1], I_mag[i-1, j-1]]\n",
    "            if angle in [3, 4]:\n",
    "                neighbors = [I_mag[i+1, j], I_mag[i-1, j]]\n",
    "            if angle in [5, 6]:\n",
    "                neighbors = [I_mag[i-1, j+1], I_mag[i+1, j-1]]\n",
    "            if angle in [7, 8]:\n",
    "                neighbors = [I_mag[i, j-1], I_mag[i, j+1]]  \n",
    "            if angle in [9, 10]:\n",
    "                neighbors = [I_mag[i-1, j-1], I_mag[i+1, j+1]]\n",
    "            if angle in [11, 12]:\n",
    "                neighbors = [I_mag[i-1, j], I_mag[i+1, j]]\n",
    "            if angle in [13, 14]:\n",
    "                neighbors = [I_mag[i+1, j-1], I_mag[i-1, j+1]] \n",
    "\n",
    "            if I_mag[i, j] < max(neighbors):\n",
    "                edges[i, j] = 0\n",
    "                edges_bin[i, j] = 0\n",
    "                \n",
    "    return edges, edges_bin"
   ]
  },
  {
   "cell_type": "code",
   "execution_count": null,
   "id": "3f631078-6537-4b79-8b71-4ead29702eec",
   "metadata": {},
   "outputs": [],
   "source": [
    "museum = imread_gray(\"images/museum.jpg\")\n",
    "museum_nmc, museum_nmc_bin  = non_maxima_suppression(museum, 1, 0.16)\n",
    "plt.figure(figsize=(10, 8))\n",
    "plt.imshow(museum_nmc, cmap='gray')\n",
    "plt.title('theta = 0.16')\n",
    "plt.show()\n",
    "plt.figure(figsize=(10, 8))\n",
    "plt.imshow(museum_nmc_bin, cmap='gray')\n",
    "plt.title('theta = 0.16 -> bin')\n",
    "plt.show()\n"
   ]
  },
  {
   "cell_type": "markdown",
   "id": "b54ba324-e138-436b-a3fc-b3a2b97150b6",
   "metadata": {},
   "source": [
    "### (c) Add the final step after performing non-maxima suppression along edges - Hysteresis"
   ]
  },
  {
   "cell_type": "code",
   "execution_count": null,
   "id": "d313a832-d20f-4639-97da-b26a46eae418",
   "metadata": {},
   "outputs": [],
   "source": [
    "def hysteresis(I, sigma, tl, th):\n",
    "    sup, _ = non_maxima_suppression(I, sigma, tl)\n",
    "    output = sup.copy()\n",
    "    \n",
    "    output[sup < tl] = 0\n",
    "    output[sup >= th] = 1\n",
    "    \n",
    "    output = (output * 255).astype(np.uint8)\n",
    "    n, labels, _, _ = cv2.connectedComponentsWithStats(output, connectivity=8)\n",
    "\n",
    "    output = output / 255.0\n",
    "\n",
    "    for i in range(1, n): \n",
    "        component_mask = labels == i\n",
    "        if np.any(output[component_mask]>=th): \n",
    "            output[component_mask] = 1\n",
    "        else:\n",
    "            output[component_mask] = 0\n",
    "            \n",
    "\n",
    "    return output\n",
    "    "
   ]
  },
  {
   "cell_type": "code",
   "execution_count": null,
   "id": "99293ea3-9df0-4b43-9c99-6c791b6d0c48",
   "metadata": {},
   "outputs": [],
   "source": [
    "museum = imread_gray(\"images/museum.jpg\")\n",
    "_, edges_bin = findedges(museum, 1, 0.16)\n",
    "_, museum_nmc_bin  = non_maxima_suppression(museum, 1, 0.16)\n",
    "museum_hyst  = hysteresis(museum, 1, 0.04, 0.16)\n"
   ]
  },
  {
   "cell_type": "code",
   "execution_count": null,
   "id": "f62adc46-8cf8-4cfa-aaae-41a11990a352",
   "metadata": {},
   "outputs": [],
   "source": [
    "plt.figure(figsize=(15, 10))\n",
    "plt.subplot(2, 2, 1)\n",
    "plt.imshow(museum, cmap='gray')\n",
    "plt.title('Original')\n",
    "plt.subplot(2, 2, 2)\n",
    "plt.imshow(edges_bin, cmap='gray')\n",
    "plt.title('Thresholded (thr = 0.16)')\n",
    "plt.subplot(2, 2, 3)\n",
    "plt.imshow(museum_nmc_bin, cmap='gray')\n",
    "plt.title('Nonmax. supp. (thr. = 0.16)')\n",
    "plt.subplot(2, 2, 4)\n",
    "plt.imshow(museum_hyst, cmap='gray')\n",
    "plt.title('Hysteresis (high = 0.16, low = 0.04)')\n",
    "plt.show()"
   ]
  },
  {
   "cell_type": "markdown",
   "id": "d4a88d22-b1e4-4559-9173-7931f2f261ae",
   "metadata": {},
   "source": [
    "# Exercise 3: Detecting lines"
   ]
  },
  {
   "cell_type": "markdown",
   "id": "0a883d32-202c-4a55-8593-832592fa85ef",
   "metadata": {},
   "source": [
    "### (a) Create an accumulator array defined by the resolution on ρ and ϑ values. Calculate the sinusoid that represents all the lines that pass through some nonzero point."
   ]
  },
  {
   "cell_type": "code",
   "execution_count": null,
   "id": "151e25a4-4133-4a6e-a120-7a54033e28d9",
   "metadata": {},
   "outputs": [],
   "source": [
    "def accumulator_array(point, tn, thetas, rn, rhos):\n",
    "    \n",
    "    x, y = point\n",
    "    accumulator = np.zeros((rn,tn))\n",
    "\n",
    "    for j,theta in enumerate(thetas):\n",
    "        val = x * np.cos(theta) + y * np.sin(theta) \n",
    "        i = np.digitize(val, rhos)\n",
    "        accumulator[i, j] += 1\n",
    "        \n",
    "    return accumulator\n",
    "\n",
    "def compute_accumulator_array(size, point):\n",
    "\n",
    "    thetas = np.linspace(-np.pi/2, np.pi , num=size)\n",
    "    rhos = np.linspace(-size/2, size/2, num=size)\n",
    "\n",
    "    return accumulator_array(point, size, thetas, size, rhos)\n",
    "\n",
    "\n",
    "acc10_10 = compute_accumulator_array(300, (10,10))\n",
    "acc30_60 = compute_accumulator_array(300, (30,60))\n",
    "acc50_20 = compute_accumulator_array(300, (50,20))\n",
    "acc80_90 = compute_accumulator_array(300, (80,90))\n",
    "\n",
    "plt.figure(figsize=(12, 10))\n",
    "plt.subplot(2,2,1)\n",
    "plt.imshow(acc10_10)\n",
    "plt.title(\"x = 10, y = 20\")\n",
    "plt.subplot(2,2,2)\n",
    "plt.imshow(acc30_60)\n",
    "plt.title(\"x = 30, y = 60\")\n",
    "plt.subplot(2,2,3)\n",
    "plt.imshow(acc50_20)\n",
    "plt.title(\"x = 50, y = 20\")\n",
    "plt.subplot(2,2,4)\n",
    "plt.imshow(acc80_90)\n",
    "plt.title(\"x = 80, y = 90\")\n",
    "plt.show()\n",
    "\n",
    "\n"
   ]
  },
  {
   "cell_type": "markdown",
   "id": "50ebac67-d6ef-41b5-959b-6509c92891af",
   "metadata": {},
   "source": [
    "### (b) Implement the function hough_find_lines that accepts a binary image, the number of bins for ϑ and ρ (allow the possibility of them being different) and a threshold.\n"
   ]
  },
  {
   "cell_type": "code",
   "execution_count": null,
   "id": "ad13074b-002f-4c47-8710-113b4255df47",
   "metadata": {},
   "outputs": [],
   "source": [
    "def hough_find_lines(image, theta_bins, rho_bins, thr):\n",
    "\n",
    "    d =  np.sqrt(image.shape[0]**2 + image.shape[1]**2)\n",
    "    accumulator = np.zeros((rho_bins,theta_bins))\n",
    "\n",
    "    thetas = np.linspace(-np.pi/2, np.pi/2, num=theta_bins)\n",
    "    rhos = np.linspace(-d, d, num=rho_bins)\n",
    "\n",
    "    for x in range(image.shape[1]):\n",
    "        for y in range(image.shape[0]):\n",
    "            if image[y,x] != 0:\n",
    "                accumulator = accumulator + accumulator_array((x,y), theta_bins, thetas, rho_bins, rhos)\n",
    "                \n",
    "    return accumulator"
   ]
  },
  {
   "cell_type": "code",
   "execution_count": null,
   "id": "ba39c0dc-1dc7-4ced-93b2-42b9191d5efb",
   "metadata": {},
   "outputs": [],
   "source": [
    "synthetic = np.zeros((100,100))\n",
    "synthetic[10,10] = 1\n",
    "synthetic[10,20] = 1\n",
    "synthetic_acc = hough_find_lines(synthetic, 200, 200, 0)\n",
    "\n",
    "oneline = imread_gray(\"images/oneline.png\")\n",
    "_, oneline = findedges(oneline, 1, 0.16)\n",
    "oneline_acc = hough_find_lines(oneline, 200, 200, 0)\n",
    "rectangle = imread_gray(\"images/rectangle.png\")\n",
    "_, rectangle = findedges(rectangle, 1, 0.16)\n",
    "rectangle_acc = hough_find_lines(rectangle, 200, 200, 0)\n",
    "\n",
    "plt.figure(figsize=(12, 10))\n",
    "plt.subplot(1,3,1)\n",
    "plt.imshow(synthetic_acc)\n",
    "plt.title(\"Synthetic\")\n",
    "plt.subplot(1,3,2)\n",
    "plt.imshow(oneline_acc)\n",
    "plt.title(\"oneline.png\")\n",
    "plt.subplot(1,3,3)\n",
    "plt.imshow(rectangle_acc)\n",
    "plt.title(\"rectangle.png\")\n",
    "plt.show()\n"
   ]
  },
  {
   "cell_type": "code",
   "execution_count": null,
   "id": "eb2b5dcb-e6bf-4069-bc74-80886a32765d",
   "metadata": {},
   "outputs": [],
   "source": [
    "print(np.max(oneline_acc))"
   ]
  },
  {
   "cell_type": "markdown",
   "id": "e807b3af-30d9-4223-a1c9-b2fa298ec150",
   "metadata": {},
   "source": [
    "### (c) Implement a function named nonmaxima_suppression_box that checks the neighborhood of each pixel and set it to 0 if it is not the maximum value in the neighborhood (only consider 8-neighborhood)."
   ]
  },
  {
   "cell_type": "code",
   "execution_count": null,
   "id": "edf47584-8772-4d90-be29-5da3fd9f6602",
   "metadata": {},
   "outputs": [],
   "source": [
    "def  nonmaxima_suppression_box(x):\n",
    "\n",
    "    X = np.pad(x, pad_width=1, mode='constant', constant_values=0)\n",
    "    result = np.zeros((x.shape))\n",
    "    rows, cols = X.shape\n",
    "\n",
    "    for i in range(1, rows - 1):\n",
    "        for j in range(1, cols - 1):\n",
    "            \n",
    "            neighbors = X[i - 1:i + 2, j - 1:j + 2]\n",
    "            \n",
    "            if X[i, j] == np.max(neighbors):\n",
    "                result[i-1, j-1] = X[i, j]\n",
    "                \n",
    "    return result"
   ]
  },
  {
   "cell_type": "code",
   "execution_count": null,
   "id": "c09e95e5-967f-49ef-a35b-73482a35125a",
   "metadata": {},
   "outputs": [],
   "source": [
    "oneline_supressed = nonmaxima_suppression_box(oneline_acc)\n",
    "rectangle_supressed = nonmaxima_suppression_box(rectangle_acc)\n",
    "\n",
    "plt.figure(figsize=(10,8))\n",
    "plt.subplot(2,2,1)\n",
    "plt.imshow(oneline_acc)\n",
    "plt.title('Oneline without supression')\n",
    "plt.subplot(2,2,2)\n",
    "plt.imshow(oneline_supressed)\n",
    "plt.title('Oneline supressed')\n",
    "plt.subplot(2,2,3)\n",
    "plt.imshow(rectangle_acc)\n",
    "plt.title('Rectangle without supression')\n",
    "plt.subplot(2,2,4)\n",
    "plt.imshow(rectangle_supressed)\n",
    "plt.title('Rectangle supressed')\n",
    "plt.show()"
   ]
  },
  {
   "cell_type": "markdown",
   "id": "bbe45b60-8ac4-4886-a18c-4a5453892209",
   "metadata": {},
   "source": [
    "### (d) Search the parameter space and extract all the parameter pairs (ρ, ϑ) whose corresponding accumulator cell value is greater than a specified threshold threshold.\n"
   ]
  },
  {
   "cell_type": "code",
   "execution_count": null,
   "id": "ae5f1478-9859-4a98-9b0a-242ceb7c3505",
   "metadata": {},
   "outputs": [],
   "source": [
    "def find_pairs(image, theta_bins, rho_bins, thr):\n",
    "    \n",
    "    _, edges = findedges(image, 1, 0.1)\n",
    "    accumulator = hough_find_lines(edges, theta_bins, rho_bins, 0)\n",
    "    supressed = nonmaxima_suppression_box(accumulator)\n",
    "\n",
    "    print(np.max(supressed))\n",
    "    d =  np.sqrt(image.shape[0]**2 + image.shape[1]**2)\n",
    "    pairs = []\n",
    "\n",
    "    thetas = np.linspace(-np.pi/2, np.pi/2, num=theta_bins)\n",
    "    rhos = np.linspace(-d, d, num=rho_bins)\n",
    " \n",
    "    for rho_idx, theta_idx in np.argwhere(supressed > thr):\n",
    "        rho = rhos[rho_idx]\n",
    "        theta = thetas[theta_idx]\n",
    "        score = supressed[rho_idx, theta_idx]\n",
    "        pairs.append([rho, theta, score])\n",
    "                \n",
    "    return pairs\n",
    "\n",
    "\n"
   ]
  },
  {
   "cell_type": "code",
   "execution_count": null,
   "id": "3cd0d325-a011-49fa-ae7a-a53ed467dc80",
   "metadata": {},
   "outputs": [],
   "source": [
    "synthetic = np.zeros((100,100))\n",
    "synthetic[10,10] = 1\n",
    "synthetic[10,20] = 1\n",
    "oneline = imread_gray(\"images/oneline.png\")\n",
    "rectangle = imread_gray(\"images/rectangle.png\")\n"
   ]
  },
  {
   "cell_type": "code",
   "execution_count": null,
   "id": "7517a306-5d6e-4f0c-a30c-eccc52c4a875",
   "metadata": {},
   "outputs": [],
   "source": [
    "pairs_syn = find_pairs(synthetic,500, 160, 9)\n",
    "h_syn, w_syn = synthetic.shape\n",
    "\n",
    "plt.figure(figsize=(12, 10))\n",
    "plt.subplot(1,3,1)\n",
    "plt.title(\"Synthetic\")\n",
    "plt.imshow(synthetic, cmap='gray')\n",
    "for pair in pairs_syn:\n",
    "    rho, theta,_ = pair\n",
    "    draw_line(rho, theta, h_syn, w_syn)\n",
    "    \n",
    "h_one, w_one = oneline.shape\n",
    "pairs_one = find_pairs(oneline, h_one, w_one, 250)\n",
    "\n",
    "plt.subplot(1,3,2)\n",
    "plt.title(\"online.png\")\n",
    "plt.imshow(oneline, cmap='gray')\n",
    "for pair in pairs_one:\n",
    "    rho, theta,_  = pair\n",
    "    draw_line(rho, theta, h_one, w_one)\n",
    "\n",
    "h_rec, w_rec = rectangle.shape\n",
    "pairs_rec = find_pairs(rectangle, h_rec, w_rec, 240)\n",
    "\n",
    "plt.subplot(1,3,3)\n",
    "plt.title(\"rectangle.png\")\n",
    "plt.imshow(rectangle, cmap='gray')\n",
    "for pair in pairs_rec:\n",
    "    rho, theta,_ = pair\n",
    "    draw_line(rho, theta, h_rec, w_rec)\n",
    "plt.show()"
   ]
  },
  {
   "cell_type": "markdown",
   "id": "f22602d7-5d3f-48bc-a00e-5892ef471c6c",
   "metadata": {},
   "source": [
    "### (e) Detect lines on bricks.jpg and pier.jpg"
   ]
  },
  {
   "cell_type": "code",
   "execution_count": null,
   "id": "9ee427ed-0927-4ae1-a163-2c1a8da10b60",
   "metadata": {},
   "outputs": [],
   "source": [
    "bricks_gray = imread_gray(\"images/bricks.jpg\")\n",
    "pier_gray = imread_gray(\"images/pier.jpg\")"
   ]
  },
  {
   "cell_type": "code",
   "execution_count": null,
   "id": "405d05c1-08ea-46e2-ba7a-29d424a568ce",
   "metadata": {},
   "outputs": [],
   "source": [
    "brick_hyst  = hysteresis(bricks_gray, 2, 0.1, 0.2)\n",
    "pier_hyst  = hysteresis(pier_gray, 2, 0.03, 0.1)\n",
    "\n",
    "plt.figure(figsize=(12, 10))\n",
    "plt.subplot(1,2,1)\n",
    "plt.imshow(brick_hyst, cmap=\"gray\")\n",
    "plt.subplot(1,2,2)\n",
    "plt.imshow(pier_hyst, cmap=\"gray\")\n",
    "plt.show()"
   ]
  },
  {
   "cell_type": "code",
   "execution_count": null,
   "id": "b89aab87-2408-4b37-9423-3c042cd407d0",
   "metadata": {},
   "outputs": [],
   "source": [
    "_, brick_acc = findedges(bricks_gray, 1, 0.2)\n",
    "brick_acc = hough_find_lines(brick_acc, 400, 400, 0)\n",
    "_, pier_acc = findedges(pier_gray, 1, 0.2)\n",
    "pier_acc = hough_find_lines(pier_acc, 400, 400, 0)\n",
    "\n",
    "\n",
    "h_brick, w_brick = brick_hyst.shape\n",
    "pairs_brick = find_pairs(brick_hyst, 400, 400, 0)\n",
    "pairs_brick.sort(key=lambda x: x[2], reverse=True)\n",
    "\n",
    "h_pier, w_pier = pier_hyst.shape\n",
    "pairs_pier = find_pairs(pier_hyst, 400, 400, 0)\n",
    "pairs_pier.sort(key=lambda x: x[2], reverse=True)\n",
    "\n",
    "bricks = cv2.imread(\"images/bricks.jpg\")\n",
    "bricks = cv2.cvtColor(bricks, cv2.COLOR_BGR2RGB)\n",
    "pier = cv2.imread(\"images/pier.jpg\")\n",
    "pier = cv2.cvtColor(pier, cv2.COLOR_BGR2RGB)\n",
    "\n",
    "plt.figure(figsize=(12, 10))\n",
    "plt.subplot(2,2,1)\n",
    "plt.title(\"bricks.jpg\")\n",
    "plt.imshow(brick_acc)\n",
    "plt.subplot(2,2,2)\n",
    "plt.title(\"pier.jpg\")\n",
    "plt.imshow(pier_acc)\n",
    "plt.subplot(2,2,3)\n",
    "plt.imshow(bricks)\n",
    "for pair in pairs_brick[:10]:\n",
    "    rho, theta,_ = pair\n",
    "    draw_line(rho, theta, h_brick, w_brick)\n",
    "plt.subplot(2,2,4)\n",
    "plt.imshow(pier, cmap='gray')\n",
    "for pair in pairs_pier[:10]:\n",
    "    rho, theta,_ = pair\n",
    "    draw_line(rho, theta, h_pier, w_pier)\n",
    "plt.show()\n"
   ]
  },
  {
   "cell_type": "markdown",
   "id": "f032d681-3c24-423c-91ea-339bc9aeee9a",
   "metadata": {},
   "source": [
    "### (f) "
   ]
  },
  {
   "cell_type": "code",
   "execution_count": null,
   "id": "2cdb7726-f949-458e-a85f-3065ac2f72cd",
   "metadata": {},
   "outputs": [],
   "source": [
    "def find_pairs_with_angles(image, theta_bins, rho_bins, thr, edge_angles):\n",
    "   \n",
    "    _, edges = findedges(image, 1, 0.1)\n",
    "    \n",
    "    d = np.sqrt(image.shape[0]**2 + image.shape[1]**2) \n",
    "    accumulator = np.zeros((rho_bins, theta_bins))\n",
    "\n",
    "    thetas = np.linspace(-np.pi/2, np.pi/2, num=theta_bins)\n",
    "    rhos = np.linspace(-d, d, num=rho_bins)\n",
    "\n",
    "    edge_angles = np.mod(edge_angles + np.pi / 2, np.pi) - np.pi / 2\n",
    "\n",
    "    for i in range(edges.shape[0]):\n",
    "        for j in range(edges.shape[1]):\n",
    "            if edges[i, j] > 0:  \n",
    "                angle = edge_angles[i, j]\n",
    "                theta_index = np.argmin(np.abs(thetas - angle))\n",
    "                \n",
    "                rho = j * np.cos(angle) + i * np.sin(angle)\n",
    "                rho_index = np.digitize(rho, rhos)\n",
    "\n",
    "                accumulator[rho_index, theta_index] += 1\n",
    "\n",
    "    supressed = nonmaxima_suppression_box(accumulator)\n",
    "\n",
    "    pairs = []\n",
    "    for rho_idx, theta_idx in np.argwhere(supressed > thr):\n",
    "        rho = rhos[rho_idx]\n",
    "        theta = thetas[theta_idx]\n",
    "        score = supressed[rho_idx, theta_idx]\n",
    "        pairs.append([rho, theta, score])\n",
    "\n",
    "    return pairs, accumulator\n"
   ]
  },
  {
   "cell_type": "code",
   "execution_count": null,
   "id": "d82f00b4-a40d-4f47-9df7-05f123e18beb",
   "metadata": {},
   "outputs": [],
   "source": [
    "rectangle = imread_gray(\"images/rectangle.png\")\n",
    "_, angles = gradient_magnitude(rectangle, 1)\n",
    "h_rec, w_rec = rectangle.shape\n",
    "rec_acc = hough_find_lines(rectangle, 400, 400, 0)\n",
    "pairs2_rec, rec_acc2 = find_pairs_with_angles(rectangle, 400, 400, 150, angles)\n",
    "\n",
    "plt.figure(figsize=(12, 10))\n",
    "plt.subplot(2,2,1)\n",
    "plt.title(\"normal\")\n",
    "plt.imshow(rectangle_acc)\n",
    "plt.subplot(2,2,2)\n",
    "plt.imshow(rec_acc2)\n",
    "plt.title(\"orientation\")\n",
    "plt.subplot(2,2,3)\n",
    "plt.title(\"rectangle.png\")\n",
    "plt.imshow(rectangle, cmap='gray')\n",
    "for pair in pairs_rec:\n",
    "    rho, theta,_ = pair\n",
    "    draw_line(rho, theta, h_rec, w_rec)\n",
    "plt.subplot(2,2,4)\n",
    "plt.title(\"rectangle.png\")\n",
    "plt.imshow(rectangle, cmap='gray')\n",
    "for pair in pairs2_rec:\n",
    "    rho, theta,_ = pair\n",
    "    draw_line(rho, theta, h_rec, w_rec)\n",
    "plt.show()\n",
    "\n"
   ]
  },
  {
   "cell_type": "markdown",
   "id": "9b35c8f7-033c-40fe-8146-777993e35f03",
   "metadata": {},
   "source": [
    "### (g)  Implement a Hough transform that detects circles of a fixed radius"
   ]
  },
  {
   "cell_type": "code",
   "execution_count": null,
   "id": "6d0254a0-68e6-475b-95cc-772457a4a6e0",
   "metadata": {},
   "outputs": [],
   "source": [
    "def find_circles(image, radius):\n",
    "    height, width = image.shape\n",
    "    accumulator = np.zeros((height, width))\n",
    "    for i in range(0, height):\n",
    "        for j in range(0, width):\n",
    "            if image[i,j] != 0:\n",
    "                for theta in range(0, 360):\n",
    "                        a = int(j - radius * np.cos(np.radians(theta)))\n",
    "                        b = int(i + radius * np.sin(np.radians(theta)))\n",
    "\n",
    "                        if 0 <= a < width and 0 <= b < height:\n",
    "                            accumulator[b, a] += 1\n",
    "                            \n",
    "    return accumulator"
   ]
  },
  {
   "cell_type": "code",
   "execution_count": null,
   "id": "35cc103f-7d1b-496b-851d-c9cd40ef5f04",
   "metadata": {},
   "outputs": [],
   "source": [
    "eclipse_gray = imread_gray(\"images/eclipse.jpg\")\n",
    "eclipse = cv2.imread(\"images/eclipse.jpg\")\n",
    "eclipse = cv2.cvtColor(eclipse, cv2.COLOR_BGR2RGB)\n",
    "\n",
    "_,eclipse_edge = findedges(eclipse_gray, 1, 0.05)\n",
    "eclipse_acc = find_circles(eclipse_edge, 47)\n",
    "\n",
    "centers = np.where(eclipse_acc >= 83)\n",
    "\n",
    "circles = eclipse.copy()\n",
    "for y, x in zip(centers[0], centers[1]):\n",
    "    cv2.circle(circles, (x, y), 47, (0, 255, 0), 1)\n",
    "\n",
    "plt.subplot(1,2,1)\n",
    "plt.imshow(eclipse_acc.T)\n",
    "plt.subplot(1,2,2)\n",
    "plt.imshow(circles)\n",
    "plt.show()"
   ]
  },
  {
   "cell_type": "markdown",
   "id": "fea8491d-3216-4b8e-a050-60ccf4709b6b",
   "metadata": {},
   "source": [
    "### (h)"
   ]
  },
  {
   "cell_type": "code",
   "execution_count": null,
   "id": "7fd24113-b5d8-4031-bb13-58da7fa80bb8",
   "metadata": {},
   "outputs": [],
   "source": [
    "def hough_find_lines_normalised(image, theta_bins, rho_bins, thr):\n",
    "    \n",
    "    accumulator = np.zeros((rho_bins, theta_bins))\n",
    "    d = np.sqrt(I.shape[0]**2 + I.shape[1]**2)\n",
    "    thetas = np.linspace(-np.pi/2, np.pi/2, num=theta_bins)\n",
    "    rhos = np.linspace(-d, d, num=rho_bins)\n",
    "    \n",
    "    for i in range(image.shape[0]):\n",
    "        for j in range(image.shape[1]):\n",
    "            \n",
    "            if image[i,j] != 0:\n",
    "                for theta_index, theta in enumerate(thetas):\n",
    "                    \n",
    "                    rho = (j * np.cos(theta)) + (i * np.sin(theta))\n",
    "                    rho_index = np.digitize(rho, rhos)\n",
    "                    accumulator[rho_index,theta_index] += 1\n",
    "\n",
    "    max_votes = np.zeros((accumulator))\n",
    "    for theta_index in range(theta_bins):\n",
    "        for rho_index in range(rho_bins):\n",
    "            \n",
    "            theta = thetas[theta_index]\n",
    "            \n",
    "            if np.abs(np.sin(theta)) > np.abs(np.cos(theta)):\n",
    "                line_length = image.shape[0] / np.abs(np.sin(theta))\n",
    "            else:\n",
    "                line_length = image.shape[1] / np.abs(np.cos(theta))\n",
    "\n",
    "            max_votes_[rho_index, theta_index] = line_length\n",
    "\n",
    "    max_votes[max_votes == 0] = 1\n",
    "\n",
    "    normalized = accumulator / max_votes\n",
    "\n",
    "    normalized[normalized < threshold] = 0\n",
    "    \n",
    "    return normalized"
   ]
  },
  {
   "cell_type": "code",
   "execution_count": null,
   "id": "e1a61216-55a1-4b12-a4c3-752578bc1dd8",
   "metadata": {},
   "outputs": [],
   "source": []
  }
 ],
 "metadata": {
  "kernelspec": {
   "display_name": "Python 3 (ipykernel)",
   "language": "python",
   "name": "python3"
  },
  "language_info": {
   "codemirror_mode": {
    "name": "ipython",
    "version": 3
   },
   "file_extension": ".py",
   "mimetype": "text/x-python",
   "name": "python",
   "nbconvert_exporter": "python",
   "pygments_lexer": "ipython3",
   "version": "3.9.20"
  }
 },
 "nbformat": 4,
 "nbformat_minor": 5
}
