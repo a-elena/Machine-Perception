{
 "cells": [
  {
   "cell_type": "code",
   "execution_count": 103,
   "metadata": {},
   "outputs": [],
   "source": [
    "import matplotlib.pyplot as plt\n",
    "import numpy as np\n",
    "import cv2\n",
    "import math\n",
    "import random\n",
    "from tqdm import tqdm\n",
    "from UZ_utils import *\n",
    "from a2_utils import *\n",
    "from a3_utils import *\n",
    "from a4_utils import *\n",
    "from a5_utils import *\n",
    "from as3 import *"
   ]
  },
  {
   "cell_type": "markdown",
   "metadata": {},
   "source": [
    "## Exercise 1: Disparity"
   ]
  },
  {
   "cell_type": "markdown",
   "metadata": {},
   "source": [
    "### b) Write a script that computes the disparity for a range of values of pz. "
   ]
  },
  {
   "cell_type": "code",
   "execution_count": 104,
   "metadata": {},
   "outputs": [],
   "source": [
    "def disparity_in_range_n(n, f=2.5, T=120):\n",
    "\n",
    "    disparity = []\n",
    "\n",
    "    for i in range(n):\n",
    "        \n",
    "        if i != 0:\n",
    "            d = f * T / i\n",
    "            disparity.append(d)\n",
    "        else:\n",
    "            disparity.append(float('inf'))\n",
    "\n",
    "    return disparity"
   ]
  },
  {
   "cell_type": "code",
   "execution_count": null,
   "metadata": {},
   "outputs": [],
   "source": [
    "disparity_100 = disparity_in_range_n(100)\n",
    "x_values = range(100)\n",
    "\n",
    "plt.figure(figsize=(10, 6)) \n",
    "plt.plot(x_values, disparity_100, linestyle='-', color='blue', label='Disparity')\n",
    "\n",
    "plt.xlabel('Pz')\n",
    "plt.ylabel('Disparity')\n",
    "plt.title('Disparity vs Pz')\n",
    "plt.ylim(0, disparity_100[1] * 1.2)\n",
    "plt.legend()\n",
    "plt.grid()\n",
    "\n",
    "plt.show()"
   ]
  },
  {
   "cell_type": "markdown",
   "metadata": {},
   "source": [
    "### d) Write a script that calculates the disparity for an image pair."
   ]
  },
  {
   "cell_type": "code",
   "execution_count": 106,
   "metadata": {},
   "outputs": [],
   "source": [
    "def ncc(image1, image2, pixels = 5):\n",
    "\n",
    "    pixels = 5\n",
    "    print(pixels)\n",
    "\n",
    "    disp = np.zeros((image1.shape))\n",
    "    height, width = image1.shape\n",
    "    \n",
    "\n",
    "    for i in tqdm(range(pixels, height - pixels)):\n",
    "        for j in range(pixels, width - pixels):\n",
    "            \n",
    "            part1 = image1[i-pixels:i+pixels+1, j-pixels:j+pixels+1]\n",
    "            mean1 = np.mean(part1)\n",
    "            \n",
    "\n",
    "            max_value = -2\n",
    "            index = 0\n",
    "\n",
    "            for k in range(max(pixels, j - 35),  min(width - pixels, j + 35)):\n",
    "\n",
    "                part2 = image2[i-pixels:i+pixels+1, k-pixels:k+pixels+1]\n",
    "                mean2 = np.mean(part2)\n",
    "\n",
    "                x = part1 - mean1\n",
    "                y = part2 - mean2\n",
    "               \n",
    "                ncc_value = np.sum(x*y) / ( np.sqrt(np.sum(x**2) * np.sum(y**2)) + 1e-8 )\n",
    "\n",
    "                if ncc_value > max_value:\n",
    "                    max_value = ncc_value\n",
    "                    index = k\n",
    "\n",
    "            disp[i,j] = abs(j - index)\n",
    "        \n",
    "    \n",
    "    return disp\n"
   ]
  },
  {
   "cell_type": "code",
   "execution_count": null,
   "metadata": {},
   "outputs": [],
   "source": [
    "office_left = imread_gray(\"data/disparity/office_left_resized.png\")\n",
    "office_right = imread_gray(\"data/disparity/office_right_resized.png\")\n",
    "print(office_left.shape)\n",
    "print(office_right.shape)\n",
    "\n",
    "disparity = ncc(office_left, office_right)\n",
    "plt.figure(figsize=(12,6))\n",
    "plt.subplot(1,2,1)\n",
    "plt.imshow(office_left, cmap='gray')\n",
    "plt.subplot(1,2,2)\n",
    "plt.imshow(disparity, cmap='gray')\n",
    "\n",
    "plt.show()"
   ]
  },
  {
   "cell_type": "markdown",
   "metadata": {},
   "source": [
    "## Exercise 2: Fundamental matrix, epipoles, epipolar lines"
   ]
  },
  {
   "cell_type": "markdown",
   "metadata": {},
   "source": [
    "### b) Implement a function fundamental_matrix that is given a set of (at least) eight pairs of points from two images and computes the fundamental matrix using the eight-point algorithm.\n"
   ]
  },
  {
   "cell_type": "code",
   "execution_count": 108,
   "metadata": {},
   "outputs": [],
   "source": [
    "def fundamental_matrix(points_1, points_2):\n",
    "\n",
    "    points_1, T1 = normalize_points(np.array(points_1))\n",
    "    points_2, T2 = normalize_points(np.array(points_2))\n",
    "\n",
    "    A = []\n",
    "    for i in range(len(points_1)):\n",
    "        u1, v1, _ = points_1[i]\n",
    "        u2, v2, _ = points_2[i]\n",
    "        A.append([u1*u2, u1*v2, u1, v1*u2, v1*v2, v1, u2, v2, 1])\n",
    "\n",
    "    A = np.array(A)\n",
    "\n",
    "    U, S, V = np.linalg.svd(A)\n",
    "    V = V.T\n",
    "    F = V[:, -1]\n",
    "    F = F.reshape((3, 3))\n",
    "\n",
    "    U, S, V = np.linalg.svd(F)\n",
    "    D = np.diag(S)\n",
    "    D[-1] = 0\n",
    "\n",
    "    F = np.dot(np.dot(U, D), V)\n",
    "\n",
    "    F = np.dot(np.dot(T2.T, F.T), T1)\n",
    "\n",
    "    return F\n"
   ]
  },
  {
   "cell_type": "code",
   "execution_count": 109,
   "metadata": {},
   "outputs": [],
   "source": [
    "def load_points(path):\n",
    "    points_1 = []\n",
    "    points_2 = []\n",
    "    data = np.loadtxt(path)\n",
    "\n",
    "    for i in range(data.shape[0]):\n",
    "        points_1.append([data[i, 0], data[i, 1]])\n",
    "        points_2.append([data[i, 2], data[i, 3]])\n",
    "    \n",
    "    return points_1, points_2"
   ]
  },
  {
   "cell_type": "code",
   "execution_count": null,
   "metadata": {},
   "outputs": [],
   "source": [
    "house_1 = imread_gray(\"data/epipolar/house1.jpg\") \n",
    "house_2 = imread_gray(\"data/epipolar/house2.jpg\")\n",
    "height, width = house_1.shape\n",
    "\n",
    "points_1, points_2 = load_points(\"data/epipolar/house_points.txt\")\n",
    "F = fundamental_matrix(points_1, points_2)\n",
    "\n",
    "\n",
    "plt.figure(figsize=(14,8))\n",
    "\n",
    "plt.subplot(1,2,1)\n",
    "plt.imshow(house_1, cmap=\"gray\")\n",
    "for i in range(len(points_1)):\n",
    "    plt.plot(points_1[i][0], points_1[i][1], 'ro', markersize=4)\n",
    "\n",
    "for i in range(len(points_2)):\n",
    "    x = (points_2[i][0], points_2[i][1], 1)\n",
    "    line = np.dot(F.T, x)\n",
    "    draw_epiline(line, height, width)\n",
    "\n",
    "\n",
    "plt.subplot(1, 2, 2)\n",
    "plt.imshow(house_2, cmap=\"gray\")\n",
    "for i in range(0, len(points_2)):\n",
    "    plt.plot(points_2[i][0], points_2[i][1], 'ro',markersize=4)\n",
    "\n",
    "for i in range(0, len(points_1)):\n",
    "    x = (points_1[i][0], points_1[i][1], 1)\n",
    "    line = np.dot(F, x)\n",
    "    draw_epiline(line, height, width)\n",
    "    \n",
    "plt.show()"
   ]
  },
  {
   "cell_type": "markdown",
   "metadata": {},
   "source": [
    "### c) Write a function reprojection_error that calculates the reprojection error of a fundamental matrix F given two matching points."
   ]
  },
  {
   "cell_type": "code",
   "execution_count": 111,
   "metadata": {},
   "outputs": [],
   "source": [
    "def reprojection_error(point_1, point_2, F):\n",
    "\n",
    "\n",
    "    point_1_h = [point_1[0], point_1[1], 1]\n",
    "    point_2_h = [point_2[0], point_2[1], 1]\n",
    "    \n",
    "    line1 = np.dot(F, point_1_h)\n",
    "    line2 = np.dot(F.T, point_2_h)\n",
    "\n",
    "    a1, b1, c1 = line1\n",
    "    a2, b2, c2 = line2\n",
    "    \n",
    "    dist_1 = abs(a1*point_2[0] + b1*point_2[1] + c1) / np.sqrt(a1**2 + b1**2)\n",
    "    dist_2 = abs(a2*point_1[0] + b2*point_1[1] + c2) / np.sqrt(a2**2 + b2**2)\n",
    "\n",
    "    error = (dist_1 + dist_2) / 2\n",
    "\n",
    "    return error\n"
   ]
  },
  {
   "cell_type": "code",
   "execution_count": null,
   "metadata": {},
   "outputs": [],
   "source": [
    "point_1 = [85, 233]\n",
    "point_2 = [67, 219]\n",
    "\n",
    "error_1 = reprojection_error(point_1, point_2, F)\n",
    "print(\"Reprojection error: \", error_1)\n",
    "\n",
    "error2 = 0\n",
    "for i in range(len(points_1)):\n",
    "    error2 += reprojection_error(points_1[i], points_2[i], F)\n",
    "\n",
    "error2 = error2 / len(points_1)\n",
    "print(\"Symmetric reprojection error: \", error2)"
   ]
  },
  {
   "cell_type": "markdown",
   "metadata": {},
   "source": [
    "### d) Perform fully automatic fundamental matrix estimation on a pair of images from the directory desk."
   ]
  },
  {
   "cell_type": "code",
   "execution_count": 113,
   "metadata": {},
   "outputs": [],
   "source": [
    "def ransac_fundamental(matches, points_1, points_2, iterations=1000, threshold=1.0):\n",
    "\n",
    "    best_F = None\n",
    "    best_inliers = []\n",
    "    best_error = float('inf')  \n",
    "    inlier_counts = []  \n",
    "\n",
    "    for _ in tqdm(range(iterations)):\n",
    "\n",
    "        random_matches = random.sample(matches, 8)\n",
    "        sample_points_1 = []\n",
    "        sample_points_2 = []\n",
    "        for a, b in random_matches:\n",
    "            sample_points_1.append(points_1[a])\n",
    "            sample_points_2.append(points_2[b])\n",
    "\n",
    "        F = fundamental_matrix(sample_points_1, sample_points_2)\n",
    "\n",
    "        error = 0\n",
    "        inliers = []\n",
    "\n",
    "        for a, b in matches:\n",
    "            p1 = points_1[a]\n",
    "            p2 = points_2[b]\n",
    "\n",
    "            dist = reprojection_error(p1, p2, F)\n",
    "\n",
    "            if dist < threshold:\n",
    "                inliers.append((a, b))  \n",
    "                error += dist \n",
    "\n",
    "        error /= len(matches)\n",
    "\n",
    "        if len(inliers) > len(best_inliers) or (len(inliers) == len(best_inliers) and error < best_error):\n",
    "            best_error = error\n",
    "            best_inliers = inliers\n",
    "            best_F = F\n",
    "\n",
    "        inlier_counts.append(len(inliers))\n",
    "\n",
    "\n",
    "    return best_inliers, best_F\n"
   ]
  },
  {
   "cell_type": "code",
   "execution_count": null,
   "metadata": {},
   "outputs": [],
   "source": [
    "desk_1 = cv2.imread(\"data/desk/DSC02638.jpg\", cv2.IMREAD_GRAYSCALE)\n",
    "desk_2 = cv2.imread(\"data/desk/DSC02639.jpg\", cv2.IMREAD_GRAYSCALE)\n",
    "\n",
    "sift = cv2.SIFT_create()\n",
    "\n",
    "keypoints1, descriptors1 = sift.detectAndCompute(desk_1, None)\n",
    "keypoints2, descriptors2 = sift.detectAndCompute(desk_2, None)\n",
    "\n",
    "points_a = np.array([kp.pt for kp in keypoints1])  \n",
    "points_b = np.array([kp.pt for kp in keypoints2])  \n",
    "\n",
    "bf = cv2.BFMatcher(cv2.NORM_L2, crossCheck=True)\n",
    "matches = bf.match(descriptors1, descriptors2)\n",
    "\n",
    "matches = sorted(matches, key = lambda x:x.distance)\n",
    "\n",
    "s1 = np.array([keypoints1[m.queryIdx].pt for m in matches]) \n",
    "s2 = np.array([keypoints2[m.trainIdx].pt for m in matches]) \n",
    "indexes = [(m.queryIdx, m.trainIdx) for m in matches]  \n",
    "\n",
    "display_matches(desk_1, s1, desk_2, s2)\n"
   ]
  },
  {
   "cell_type": "code",
   "execution_count": null,
   "metadata": {},
   "outputs": [],
   "source": [
    "best_inliers, best_F = ransac_fundamental(indexes, points_a, points_b)"
   ]
  },
  {
   "cell_type": "code",
   "execution_count": null,
   "metadata": {},
   "outputs": [],
   "source": [
    "plt.figure(figsize=(14,8))\n",
    "height, width = desk_1.shape\n",
    "\n",
    "plt.subplot(1,2,1)\n",
    "plt.imshow(desk_1, cmap=\"gray\")\n",
    "\n",
    "for i in tqdm(range(0, 100)):\n",
    "    x = (points_b[i][0], points_b[i][1], 1)\n",
    "    line = np.dot(best_F.T, x)\n",
    "    draw_epiline(line, height, width)\n",
    "\n",
    "\n",
    "plt.subplot(1, 2, 2)\n",
    "plt.imshow(desk_2, cmap=\"gray\")\n",
    "\n",
    "for i in tqdm(range(0, 100)):\n",
    "    x = (points_a[i][0], points_a[i][1], 1)\n",
    "    line = np.dot(best_F, x)\n",
    "    draw_epiline(line, height, width)\n",
    "    \n",
    "plt.show()"
   ]
  },
  {
   "cell_type": "markdown",
   "metadata": {},
   "source": [
    "## Exercise 3: Triangulation"
   ]
  },
  {
   "cell_type": "markdown",
   "metadata": {},
   "source": [
    "### a) Implement the function triangulate that accepts a set of correspondence points and a pair of calibration matrices as an input and returns the triangulated 3D points. "
   ]
  },
  {
   "cell_type": "code",
   "execution_count": 117,
   "metadata": {},
   "outputs": [],
   "source": [
    "def triangulate(P1, P2, point_1, point_2):\n",
    "\n",
    "    A = np.zeros((4, 4))\n",
    "\n",
    "    x1 = np.array([[0, -1, point_1[1]], [1, 0, -point_1[0]], [-point_1[1], point_1[0], 0]])\n",
    "    x2 = np.array([[0, -1, point_2[1]], [1, 0, -point_2[0]], [-point_2[1], point_2[0], 0]])\n",
    "\n",
    "    A[0:2, :] = np.dot(x1, P1)[0:2, :]\n",
    "    A[2:4, :] = np.dot(x2, P2)[0:2, :]\n",
    "\n",
    "    U, S, V = np.linalg.svd(A)\n",
    "\n",
    "    V=V.T\n",
    "    \n",
    "    X = V[:, 3] / V[3, 3]\n",
    "    \n",
    "    return X[:3] \n"
   ]
  },
  {
   "cell_type": "code",
   "execution_count": null,
   "metadata": {},
   "outputs": [],
   "source": [
    "points_1, points_2 = load_points(\"data/epipolar/house_points.txt\")\n",
    "\n",
    "P1 = np.loadtxt(\"data/epipolar/house1_camera.txt\")\n",
    "P2 = np.loadtxt(\"data/epipolar/house2_camera.txt\")\n",
    "\n",
    "results = []\n",
    "for i in range(len(points_1)):\n",
    "    results.append(triangulate(P1, P2, points_1[i], points_2[i]))\n",
    "\n",
    "T = np.array([[-1, 0, 0], [0, 0, 1], [0, -1, 0]])\n",
    "results = np.dot(results, T)\n",
    "\n",
    "house_1 = imread_gray(\"data/epipolar/house1.jpg\") \n",
    "house_2 = imread_gray(\"data/epipolar/house2.jpg\")\n",
    "\n",
    "plt.figure(figsize=(14,6))\n",
    "plt.subplot(1,3,1)\n",
    "plt.imshow(house_1, cmap=\"gray\")\n",
    "for i in range(len(points_1)):\n",
    "    plt.plot(points_1[i][0], points_1[i][1], 'ro', markersize=4)\n",
    "    plt.text(points_1[i][0], points_1[i][1], str(i))\n",
    "\n",
    "plt.subplot(1,3,2)\n",
    "plt.imshow(house_2, cmap=\"gray\")\n",
    "for i in range(len(points_2)):\n",
    "    plt.plot(points_2[i][0], points_2[i][1], 'ro', markersize=4)\n",
    "    plt.text(points_2[i][0], points_2[i][1], str(i))\n",
    "\n",
    "ax = plt.subplot(1,3,3, projection='3d')\n",
    "for i, point in enumerate(results):\n",
    "    plt.plot(point[0], point[1], point[2], 'r.')\n",
    "    ax.text(point[0], point[1], point[2], str(i))\n",
    "\n",
    "ax.set_box_aspect([1, 2, 1])\n",
    "\n",
    "ax.set_xticks([-1, -0.5, 0, 0.5, 1, 1.5, 2])\n",
    "ax.set_xticklabels(['-1.0', '-0.5', '0.0', '0.5', '1.0', '1.5', '2.0'])\n",
    "\n",
    "ax.set_yticks([4.5, 5, 5.5, 6, 6.5, 7, 7.5])\n",
    "ax.set_yticklabels(['4.5', '5.0', '5.5', '6.0', '6.5', '7.0', '7.5'])\n",
    "\n",
    "ax.set_zticks([-1, -0.5, 0, 0.5, 1, 1.5])\n",
    "ax.set_zticklabels(['-1.0', '-0.5', '0.0', '0.5', '1.0', '1.5'])\n",
    "\n",
    "ax.view_init(elev=45, azim=-10)\n",
    "\n",
    "plt.show()"
   ]
  },
  {
   "cell_type": "code",
   "execution_count": null,
   "metadata": {},
   "outputs": [],
   "source": []
  }
 ],
 "metadata": {
  "kernelspec": {
   "display_name": "MP",
   "language": "python",
   "name": "python3"
  },
  "language_info": {
   "codemirror_mode": {
    "name": "ipython",
    "version": 3
   },
   "file_extension": ".py",
   "mimetype": "text/x-python",
   "name": "python",
   "nbconvert_exporter": "python",
   "pygments_lexer": "ipython3",
   "version": "3.9.20"
  }
 },
 "nbformat": 4,
 "nbformat_minor": 2
}
